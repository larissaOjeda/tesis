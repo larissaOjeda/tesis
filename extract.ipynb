{
 "cells": [
  {
   "cell_type": "code",
   "execution_count": 1,
   "id": "5ebc5a40-a93d-4bb2-a329-4e0a36f3ffd5",
   "metadata": {},
   "outputs": [
    {
     "name": "stderr",
     "output_type": "stream",
     "text": [
      "100%|██████████| 51/51 [00:00<?, ?it/s]\n",
      "  4%|▍         | 2/51 [00:04<01:58,  2.42s/it]"
     ]
    },
    {
     "name": "stdout",
     "output_type": "stream",
     "text": [
      "Sorry :c something went wrong unzipping the file:assignment_group_fact\n"
     ]
    },
    {
     "name": "stderr",
     "output_type": "stream",
     "text": [
      "  6%|▌         | 3/51 [00:20<06:48,  8.52s/it]"
     ]
    },
    {
     "name": "stdout",
     "output_type": "stream",
     "text": [
      "Sorry :c something went wrong unzipping the file:assignment_group_score_fact\n"
     ]
    },
    {
     "name": "stderr",
     "output_type": "stream",
     "text": [
      "  8%|▊         | 4/51 [00:23<04:54,  6.26s/it]"
     ]
    },
    {
     "name": "stdout",
     "output_type": "stream",
     "text": [
      "Sorry :c something went wrong unzipping the file:assignment_override_fact\n"
     ]
    },
    {
     "name": "stderr",
     "output_type": "stream",
     "text": [
      " 10%|▉         | 5/51 [00:26<03:59,  5.21s/it]"
     ]
    },
    {
     "name": "stdout",
     "output_type": "stream",
     "text": [
      "Sorry :c something went wrong unzipping the file:assignment_override_user_fact\n"
     ]
    },
    {
     "name": "stderr",
     "output_type": "stream",
     "text": [
      " 12%|█▏        | 6/51 [00:29<03:28,  4.63s/it]"
     ]
    },
    {
     "name": "stdout",
     "output_type": "stream",
     "text": [
      "Sorry :c something went wrong unzipping the file:assignment_override_user_rollup_fact\n"
     ]
    },
    {
     "name": "stderr",
     "output_type": "stream",
     "text": [
      " 25%|██▌       | 13/51 [00:42<01:26,  2.29s/it]"
     ]
    },
    {
     "name": "stdout",
     "output_type": "stream",
     "text": [
      "Sorry :c something went wrong unzipping the file:communication_channel_fact\n"
     ]
    },
    {
     "name": "stderr",
     "output_type": "stream",
     "text": [
      " 27%|██▋       | 14/51 [00:44<01:28,  2.40s/it]"
     ]
    },
    {
     "name": "stdout",
     "output_type": "stream",
     "text": [
      "Sorry :c something went wrong unzipping the file:conference_fact\n"
     ]
    },
    {
     "name": "stderr",
     "output_type": "stream",
     "text": [
      " 29%|██▉       | 15/51 [00:47<01:31,  2.54s/it]"
     ]
    },
    {
     "name": "stdout",
     "output_type": "stream",
     "text": [
      "Sorry :c something went wrong unzipping the file:conference_participant_fact\n"
     ]
    },
    {
     "name": "stderr",
     "output_type": "stream",
     "text": [
      " 31%|███▏      | 16/51 [01:24<07:27, 12.79s/it]"
     ]
    },
    {
     "name": "stdout",
     "output_type": "stream",
     "text": [
      "Sorry :c something went wrong unzipping the file:conversation_message_participant_fact\n"
     ]
    },
    {
     "name": "stderr",
     "output_type": "stream",
     "text": [
      " 33%|███▎      | 17/51 [01:32<06:25, 11.33s/it]"
     ]
    },
    {
     "name": "stdout",
     "output_type": "stream",
     "text": [
      "Sorry :c something went wrong unzipping the file:course_score_fact\n"
     ]
    },
    {
     "name": "stderr",
     "output_type": "stream",
     "text": [
      " 35%|███▌      | 18/51 [01:36<05:03,  9.19s/it]"
     ]
    },
    {
     "name": "stdout",
     "output_type": "stream",
     "text": [
      "Sorry :c something went wrong unzipping the file:course_ui_navigation_item_fact\n"
     ]
    },
    {
     "name": "stderr",
     "output_type": "stream",
     "text": [
      " 37%|███▋      | 19/51 [01:39<03:58,  7.45s/it]"
     ]
    },
    {
     "name": "stdout",
     "output_type": "stream",
     "text": [
      "Sorry :c something went wrong unzipping the file:discussion_entry_fact\n"
     ]
    },
    {
     "name": "stderr",
     "output_type": "stream",
     "text": [
      " 39%|███▉      | 20/51 [01:42<03:09,  6.12s/it]"
     ]
    },
    {
     "name": "stdout",
     "output_type": "stream",
     "text": [
      "Sorry :c something went wrong unzipping the file:discussion_topic_fact\n"
     ]
    },
    {
     "name": "stderr",
     "output_type": "stream",
     "text": [
      " 41%|████      | 21/51 [01:49<03:07,  6.24s/it]"
     ]
    },
    {
     "name": "stdout",
     "output_type": "stream",
     "text": [
      "Sorry :c something went wrong unzipping the file:enrollment_fact\n"
     ]
    },
    {
     "name": "stderr",
     "output_type": "stream",
     "text": [
      " 43%|████▎     | 22/51 [01:52<02:29,  5.15s/it]"
     ]
    },
    {
     "name": "stdout",
     "output_type": "stream",
     "text": [
      "Sorry :c something went wrong unzipping the file:external_tool_activation_fact\n"
     ]
    },
    {
     "name": "stderr",
     "output_type": "stream",
     "text": [
      " 45%|████▌     | 23/51 [02:13<04:42, 10.08s/it]"
     ]
    },
    {
     "name": "stdout",
     "output_type": "stream",
     "text": [
      "Sorry :c something went wrong unzipping the file:file_fact\n"
     ]
    },
    {
     "name": "stderr",
     "output_type": "stream",
     "text": [
      " 51%|█████     | 26/51 [02:19<02:02,  4.90s/it]"
     ]
    },
    {
     "name": "stdout",
     "output_type": "stream",
     "text": [
      "Sorry :c something went wrong unzipping the file:group_fact\n"
     ]
    },
    {
     "name": "stderr",
     "output_type": "stream",
     "text": [
      " 53%|█████▎    | 27/51 [02:23<01:49,  4.55s/it]"
     ]
    },
    {
     "name": "stdout",
     "output_type": "stream",
     "text": [
      "Sorry :c something went wrong unzipping the file:group_membership_fact\n"
     ]
    },
    {
     "name": "stderr",
     "output_type": "stream",
     "text": [
      " 55%|█████▍    | 28/51 [02:26<01:32,  4.01s/it]"
     ]
    },
    {
     "name": "stdout",
     "output_type": "stream",
     "text": [
      "Sorry :c something went wrong unzipping the file:learning_outcome_fact\n"
     ]
    },
    {
     "name": "stderr",
     "output_type": "stream",
     "text": [
      " 57%|█████▋    | 29/51 [02:29<01:20,  3.67s/it]"
     ]
    },
    {
     "name": "stdout",
     "output_type": "stream",
     "text": [
      "Sorry :c something went wrong unzipping the file:learning_outcome_group_association_fact\n"
     ]
    },
    {
     "name": "stderr",
     "output_type": "stream",
     "text": [
      " 59%|█████▉    | 30/51 [02:31<01:10,  3.38s/it]"
     ]
    },
    {
     "name": "stdout",
     "output_type": "stream",
     "text": [
      "Sorry :c something went wrong unzipping the file:learning_outcome_group_fact\n"
     ]
    },
    {
     "name": "stderr",
     "output_type": "stream",
     "text": [
      " 61%|██████    | 31/51 [02:34<01:04,  3.22s/it]"
     ]
    },
    {
     "name": "stdout",
     "output_type": "stream",
     "text": [
      "Sorry :c something went wrong unzipping the file:learning_outcome_question_result_fact\n"
     ]
    },
    {
     "name": "stderr",
     "output_type": "stream",
     "text": [
      " 63%|██████▎   | 32/51 [02:37<01:00,  3.16s/it]"
     ]
    },
    {
     "name": "stdout",
     "output_type": "stream",
     "text": [
      "Sorry :c something went wrong unzipping the file:learning_outcome_result_fact\n"
     ]
    },
    {
     "name": "stderr",
     "output_type": "stream",
     "text": [
      " 65%|██████▍   | 33/51 [02:40<00:56,  3.12s/it]"
     ]
    },
    {
     "name": "stdout",
     "output_type": "stream",
     "text": [
      "Sorry :c something went wrong unzipping the file:learning_outcome_rubric_criterion_fact\n"
     ]
    },
    {
     "name": "stderr",
     "output_type": "stream",
     "text": [
      " 67%|██████▋   | 34/51 [02:43<00:50,  2.95s/it]"
     ]
    },
    {
     "name": "stdout",
     "output_type": "stream",
     "text": [
      "Sorry :c something went wrong unzipping the file:module_completion_requirement_fact\n"
     ]
    },
    {
     "name": "stderr",
     "output_type": "stream",
     "text": [
      " 69%|██████▊   | 35/51 [02:46<00:46,  2.91s/it]"
     ]
    },
    {
     "name": "stdout",
     "output_type": "stream",
     "text": [
      "Sorry :c something went wrong unzipping the file:module_fact\n"
     ]
    },
    {
     "name": "stderr",
     "output_type": "stream",
     "text": [
      " 71%|███████   | 36/51 [02:54<01:09,  4.62s/it]"
     ]
    },
    {
     "name": "stdout",
     "output_type": "stream",
     "text": [
      "Sorry :c something went wrong unzipping the file:module_item_fact\n"
     ]
    },
    {
     "name": "stderr",
     "output_type": "stream",
     "text": [
      " 73%|███████▎  | 37/51 [02:57<00:56,  4.05s/it]"
     ]
    },
    {
     "name": "stdout",
     "output_type": "stream",
     "text": [
      "Sorry :c something went wrong unzipping the file:module_prerequisite_fact\n"
     ]
    },
    {
     "name": "stderr",
     "output_type": "stream",
     "text": [
      " 75%|███████▍  | 38/51 [03:00<00:47,  3.66s/it]"
     ]
    },
    {
     "name": "stdout",
     "output_type": "stream",
     "text": [
      "Sorry :c something went wrong unzipping the file:module_progression_completion_requirement_fact\n"
     ]
    },
    {
     "name": "stderr",
     "output_type": "stream",
     "text": [
      " 76%|███████▋  | 39/51 [03:14<01:22,  6.84s/it]"
     ]
    },
    {
     "name": "stdout",
     "output_type": "stream",
     "text": [
      "Sorry :c something went wrong unzipping the file:module_progression_fact\n"
     ]
    },
    {
     "name": "stderr",
     "output_type": "stream",
     "text": [
      " 78%|███████▊  | 40/51 [03:17<01:02,  5.70s/it]"
     ]
    },
    {
     "name": "stdout",
     "output_type": "stream",
     "text": [
      "Sorry :c something went wrong unzipping the file:pseudonym_fact\n"
     ]
    },
    {
     "name": "stderr",
     "output_type": "stream",
     "text": [
      " 80%|████████  | 41/51 [03:20<00:48,  4.89s/it]"
     ]
    },
    {
     "name": "stdout",
     "output_type": "stream",
     "text": [
      "Sorry :c something went wrong unzipping the file:quiz_fact\n"
     ]
    },
    {
     "name": "stderr",
     "output_type": "stream",
     "text": [
      " 82%|████████▏ | 42/51 [03:43<01:32, 10.23s/it]"
     ]
    },
    {
     "name": "stdout",
     "output_type": "stream",
     "text": [
      "Sorry :c something went wrong unzipping the file:quiz_question_answer_fact\n"
     ]
    },
    {
     "name": "stderr",
     "output_type": "stream",
     "text": [
      " 84%|████████▍ | 43/51 [03:50<01:15,  9.40s/it]"
     ]
    },
    {
     "name": "stdout",
     "output_type": "stream",
     "text": [
      "Sorry :c something went wrong unzipping the file:quiz_question_fact\n"
     ]
    },
    {
     "name": "stderr",
     "output_type": "stream",
     "text": [
      " 86%|████████▋ | 44/51 [03:53<00:52,  7.45s/it]"
     ]
    },
    {
     "name": "stdout",
     "output_type": "stream",
     "text": [
      "Sorry :c something went wrong unzipping the file:quiz_question_group_fact\n"
     ]
    },
    {
     "name": "stderr",
     "output_type": "stream",
     "text": [
      " 88%|████████▊ | 45/51 [04:13<01:07, 11.23s/it]"
     ]
    },
    {
     "name": "stdout",
     "output_type": "stream",
     "text": [
      "Sorry :c something went wrong unzipping the file:quiz_submission_fact\n"
     ]
    },
    {
     "name": "stderr",
     "output_type": "stream",
     "text": [
      " 90%|█████████ | 46/51 [04:33<01:09, 13.80s/it]"
     ]
    },
    {
     "name": "stdout",
     "output_type": "stream",
     "text": [
      "Sorry :c something went wrong unzipping the file:quiz_submission_historical_fact\n"
     ]
    },
    {
     "name": "stderr",
     "output_type": "stream",
     "text": [
      " 92%|█████████▏| 47/51 [04:43<00:51, 12.77s/it]"
     ]
    },
    {
     "name": "stdout",
     "output_type": "stream",
     "text": [
      "Sorry :c something went wrong unzipping the file:submission_comment_fact\n"
     ]
    },
    {
     "name": "stderr",
     "output_type": "stream",
     "text": [
      " 94%|█████████▍| 48/51 [05:24<01:03, 21.32s/it]"
     ]
    },
    {
     "name": "stdout",
     "output_type": "stream",
     "text": [
      "Sorry :c something went wrong unzipping the file:submission_fact\n"
     ]
    },
    {
     "name": "stderr",
     "output_type": "stream",
     "text": [
      " 96%|█████████▌| 49/51 [05:45<00:41, 20.98s/it]"
     ]
    },
    {
     "name": "stdout",
     "output_type": "stream",
     "text": [
      "Sorry :c something went wrong unzipping the file:submission_file_fact\n"
     ]
    },
    {
     "name": "stderr",
     "output_type": "stream",
     "text": [
      " 98%|█████████▊| 50/51 [05:48<00:15, 15.63s/it]"
     ]
    },
    {
     "name": "stdout",
     "output_type": "stream",
     "text": [
      "Sorry :c something went wrong unzipping the file:wiki_fact\n"
     ]
    },
    {
     "name": "stderr",
     "output_type": "stream",
     "text": [
      "100%|██████████| 51/51 [05:51<00:00,  6.89s/it]\n",
      "100%|██████████| 65/65 [00:00<?, ?it/s]\n",
      "  0%|          | 0/65 [00:00<?, ?it/s]"
     ]
    },
    {
     "name": "stdout",
     "output_type": "stream",
     "text": [
      "Sorry :c something went wrong unzipping the file:wiki_page_fact\n"
     ]
    },
    {
     "name": "stderr",
     "output_type": "stream",
     "text": [
      "  2%|▏         | 1/65 [00:02<03:00,  2.82s/it]"
     ]
    },
    {
     "name": "stdout",
     "output_type": "stream",
     "text": [
      "Sorry :c something went wrong unzipping the file:account_dim\n"
     ]
    },
    {
     "name": "stderr",
     "output_type": "stream",
     "text": [
      "  3%|▎         | 2/65 [00:24<14:23, 13.71s/it]"
     ]
    },
    {
     "name": "stdout",
     "output_type": "stream",
     "text": [
      "Sorry :c something went wrong unzipping the file:assignment_dim\n"
     ]
    },
    {
     "name": "stderr",
     "output_type": "stream",
     "text": [
      "  5%|▍         | 3/65 [00:27<09:06,  8.81s/it]"
     ]
    },
    {
     "name": "stdout",
     "output_type": "stream",
     "text": [
      "Sorry :c something went wrong unzipping the file:assignment_group_dim\n"
     ]
    },
    {
     "name": "stderr",
     "output_type": "stream",
     "text": [
      "  6%|▌         | 4/65 [00:29<06:30,  6.39s/it]"
     ]
    },
    {
     "name": "stdout",
     "output_type": "stream",
     "text": [
      "Sorry :c something went wrong unzipping the file:assignment_group_rule_dim\n"
     ]
    },
    {
     "name": "stderr",
     "output_type": "stream",
     "text": [
      "  8%|▊         | 5/65 [00:52<12:16, 12.28s/it]"
     ]
    },
    {
     "name": "stdout",
     "output_type": "stream",
     "text": [
      "Sorry :c something went wrong unzipping the file:assignment_group_score_dim\n"
     ]
    },
    {
     "name": "stderr",
     "output_type": "stream",
     "text": [
      "  9%|▉         | 6/65 [00:55<09:01,  9.18s/it]"
     ]
    },
    {
     "name": "stdout",
     "output_type": "stream",
     "text": [
      "Sorry :c something went wrong unzipping the file:assignment_override_dim\n"
     ]
    },
    {
     "name": "stderr",
     "output_type": "stream",
     "text": [
      " 11%|█         | 7/65 [00:59<07:12,  7.45s/it]"
     ]
    },
    {
     "name": "stdout",
     "output_type": "stream",
     "text": [
      "Sorry :c something went wrong unzipping the file:assignment_override_user_dim\n"
     ]
    },
    {
     "name": "stderr",
     "output_type": "stream",
     "text": [
      " 12%|█▏        | 8/65 [01:02<05:42,  6.01s/it]"
     ]
    },
    {
     "name": "stdout",
     "output_type": "stream",
     "text": [
      "Sorry :c something went wrong unzipping the file:assignment_rule_dim\n"
     ]
    },
    {
     "name": "stderr",
     "output_type": "stream",
     "text": [
      " 31%|███       | 20/65 [01:23<01:40,  2.23s/it]"
     ]
    },
    {
     "name": "stdout",
     "output_type": "stream",
     "text": [
      "Sorry :c something went wrong unzipping the file:communication_channel_dim\n"
     ]
    },
    {
     "name": "stderr",
     "output_type": "stream",
     "text": [
      " 32%|███▏      | 21/65 [01:25<01:40,  2.29s/it]"
     ]
    },
    {
     "name": "stdout",
     "output_type": "stream",
     "text": [
      "Sorry :c something went wrong unzipping the file:conference_dim\n"
     ]
    },
    {
     "name": "stderr",
     "output_type": "stream",
     "text": [
      " 34%|███▍      | 22/65 [01:28<01:46,  2.48s/it]"
     ]
    },
    {
     "name": "stdout",
     "output_type": "stream",
     "text": [
      "Sorry :c something went wrong unzipping the file:conference_participant_dim\n"
     ]
    },
    {
     "name": "stderr",
     "output_type": "stream",
     "text": [
      " 35%|███▌      | 23/65 [01:35<02:38,  3.77s/it]"
     ]
    },
    {
     "name": "stdout",
     "output_type": "stream",
     "text": [
      "Sorry :c something went wrong unzipping the file:conversation_dim\n"
     ]
    },
    {
     "name": "stderr",
     "output_type": "stream",
     "text": [
      " 37%|███▋      | 24/65 [02:34<14:00, 20.49s/it]"
     ]
    },
    {
     "name": "stdout",
     "output_type": "stream",
     "text": [
      "Sorry :c something went wrong unzipping the file:conversation_message_dim\n"
     ]
    },
    {
     "name": "stderr",
     "output_type": "stream",
     "text": [
      " 38%|███▊      | 25/65 [02:43<11:19, 17.00s/it]"
     ]
    },
    {
     "name": "stdout",
     "output_type": "stream",
     "text": [
      "Sorry :c something went wrong unzipping the file:course_dim\n"
     ]
    },
    {
     "name": "stderr",
     "output_type": "stream",
     "text": [
      " 40%|████      | 26/65 [02:50<09:05, 14.00s/it]"
     ]
    },
    {
     "name": "stdout",
     "output_type": "stream",
     "text": [
      "Sorry :c something went wrong unzipping the file:course_score_dim\n"
     ]
    },
    {
     "name": "stderr",
     "output_type": "stream",
     "text": [
      " 42%|████▏     | 27/65 [02:53<06:50, 10.81s/it]"
     ]
    },
    {
     "name": "stdout",
     "output_type": "stream",
     "text": [
      "Sorry :c something went wrong unzipping the file:course_section_dim\n"
     ]
    },
    {
     "name": "stderr",
     "output_type": "stream",
     "text": [
      " 43%|████▎     | 28/65 [02:56<05:12,  8.44s/it]"
     ]
    },
    {
     "name": "stdout",
     "output_type": "stream",
     "text": [
      "Sorry :c something went wrong unzipping the file:course_ui_canvas_navigation_dim\n"
     ]
    },
    {
     "name": "stderr",
     "output_type": "stream",
     "text": [
      " 45%|████▍     | 29/65 [03:00<04:07,  6.87s/it]"
     ]
    },
    {
     "name": "stdout",
     "output_type": "stream",
     "text": [
      "Sorry :c something went wrong unzipping the file:course_ui_navigation_item_dim\n"
     ]
    },
    {
     "name": "stderr",
     "output_type": "stream",
     "text": [
      " 46%|████▌     | 30/65 [03:28<07:50, 13.44s/it]"
     ]
    },
    {
     "name": "stdout",
     "output_type": "stream",
     "text": [
      "Sorry :c something went wrong unzipping the file:discussion_entry_dim\n"
     ]
    },
    {
     "name": "stderr",
     "output_type": "stream",
     "text": [
      " 48%|████▊     | 31/65 [03:46<08:23, 14.81s/it]"
     ]
    },
    {
     "name": "stdout",
     "output_type": "stream",
     "text": [
      "Sorry :c something went wrong unzipping the file:discussion_topic_dim\n"
     ]
    },
    {
     "name": "stderr",
     "output_type": "stream",
     "text": [
      " 49%|████▉     | 32/65 [03:59<07:43, 14.04s/it]"
     ]
    },
    {
     "name": "stdout",
     "output_type": "stream",
     "text": [
      "Sorry :c something went wrong unzipping the file:enrollment_dim\n"
     ]
    },
    {
     "name": "stderr",
     "output_type": "stream",
     "text": [
      " 51%|█████     | 33/65 [04:02<05:48, 10.89s/it]"
     ]
    },
    {
     "name": "stdout",
     "output_type": "stream",
     "text": [
      "Sorry :c something went wrong unzipping the file:enrollment_rollup_dim\n"
     ]
    },
    {
     "name": "stderr",
     "output_type": "stream",
     "text": [
      " 52%|█████▏    | 34/65 [04:05<04:21,  8.43s/it]"
     ]
    },
    {
     "name": "stdout",
     "output_type": "stream",
     "text": [
      "Sorry :c something went wrong unzipping the file:enrollment_term_dim\n"
     ]
    },
    {
     "name": "stderr",
     "output_type": "stream",
     "text": [
      " 54%|█████▍    | 35/65 [04:08<03:26,  6.88s/it]"
     ]
    },
    {
     "name": "stdout",
     "output_type": "stream",
     "text": [
      "Sorry :c something went wrong unzipping the file:external_tool_activation_dim\n"
     ]
    },
    {
     "name": "stderr",
     "output_type": "stream",
     "text": [
      " 55%|█████▌    | 36/65 [06:26<22:15, 46.05s/it]"
     ]
    },
    {
     "name": "stdout",
     "output_type": "stream",
     "text": [
      "Sorry :c something went wrong unzipping the file:file_dim\n"
     ]
    },
    {
     "name": "stderr",
     "output_type": "stream",
     "text": [
      " 62%|██████▏   | 40/65 [06:33<05:18, 12.73s/it]"
     ]
    },
    {
     "name": "stdout",
     "output_type": "stream",
     "text": [
      "Sorry :c something went wrong unzipping the file:group_dim\n"
     ]
    },
    {
     "name": "stderr",
     "output_type": "stream",
     "text": [
      " 63%|██████▎   | 41/65 [06:36<03:55,  9.82s/it]"
     ]
    },
    {
     "name": "stdout",
     "output_type": "stream",
     "text": [
      "Sorry :c something went wrong unzipping the file:group_membership_dim\n"
     ]
    },
    {
     "name": "stderr",
     "output_type": "stream",
     "text": [
      " 65%|██████▍   | 42/65 [06:40<03:00,  7.84s/it]"
     ]
    },
    {
     "name": "stdout",
     "output_type": "stream",
     "text": [
      "Sorry :c something went wrong unzipping the file:learning_outcome_dim\n"
     ]
    },
    {
     "name": "stderr",
     "output_type": "stream",
     "text": [
      " 66%|██████▌   | 43/65 [06:42<02:19,  6.33s/it]"
     ]
    },
    {
     "name": "stdout",
     "output_type": "stream",
     "text": [
      "Sorry :c something went wrong unzipping the file:learning_outcome_group_dim\n"
     ]
    },
    {
     "name": "stderr",
     "output_type": "stream",
     "text": [
      " 68%|██████▊   | 44/65 [06:45<01:52,  5.35s/it]"
     ]
    },
    {
     "name": "stdout",
     "output_type": "stream",
     "text": [
      "Sorry :c something went wrong unzipping the file:learning_outcome_question_result_dim\n"
     ]
    },
    {
     "name": "stderr",
     "output_type": "stream",
     "text": [
      " 69%|██████▉   | 45/65 [06:49<01:38,  4.90s/it]"
     ]
    },
    {
     "name": "stdout",
     "output_type": "stream",
     "text": [
      "Sorry :c something went wrong unzipping the file:learning_outcome_result_dim\n"
     ]
    },
    {
     "name": "stderr",
     "output_type": "stream",
     "text": [
      " 71%|███████   | 46/65 [06:52<01:22,  4.36s/it]"
     ]
    },
    {
     "name": "stdout",
     "output_type": "stream",
     "text": [
      "Sorry :c something went wrong unzipping the file:learning_outcome_rubric_criterion_dim\n"
     ]
    },
    {
     "name": "stderr",
     "output_type": "stream",
     "text": [
      " 72%|███████▏  | 47/65 [06:55<01:08,  3.80s/it]"
     ]
    },
    {
     "name": "stdout",
     "output_type": "stream",
     "text": [
      "Sorry :c something went wrong unzipping the file:module_completion_requirement_dim\n"
     ]
    },
    {
     "name": "stderr",
     "output_type": "stream",
     "text": [
      " 74%|███████▍  | 48/65 [06:59<01:07,  3.95s/it]"
     ]
    },
    {
     "name": "stdout",
     "output_type": "stream",
     "text": [
      "Sorry :c something went wrong unzipping the file:module_dim\n"
     ]
    },
    {
     "name": "stderr",
     "output_type": "stream",
     "text": [
      " 75%|███████▌  | 49/65 [07:16<02:07,  7.95s/it]"
     ]
    },
    {
     "name": "stdout",
     "output_type": "stream",
     "text": [
      "Sorry :c something went wrong unzipping the file:module_item_dim\n"
     ]
    },
    {
     "name": "stderr",
     "output_type": "stream",
     "text": [
      " 77%|███████▋  | 50/65 [07:19<01:36,  6.40s/it]"
     ]
    },
    {
     "name": "stdout",
     "output_type": "stream",
     "text": [
      "Sorry :c something went wrong unzipping the file:module_prerequisite_dim\n"
     ]
    },
    {
     "name": "stderr",
     "output_type": "stream",
     "text": [
      " 78%|███████▊  | 51/65 [07:22<01:13,  5.24s/it]"
     ]
    },
    {
     "name": "stdout",
     "output_type": "stream",
     "text": [
      "Sorry :c something went wrong unzipping the file:module_progression_completion_requirement_dim\n"
     ]
    },
    {
     "name": "stderr",
     "output_type": "stream",
     "text": [
      " 80%|████████  | 52/65 [08:00<03:16, 15.11s/it]"
     ]
    },
    {
     "name": "stdout",
     "output_type": "stream",
     "text": [
      "Sorry :c something went wrong unzipping the file:module_progression_dim\n"
     ]
    },
    {
     "name": "stderr",
     "output_type": "stream",
     "text": [
      " 82%|████████▏ | 53/65 [08:04<02:21, 11.79s/it]"
     ]
    },
    {
     "name": "stdout",
     "output_type": "stream",
     "text": [
      "Sorry :c something went wrong unzipping the file:pseudonym_dim\n"
     ]
    },
    {
     "name": "stderr",
     "output_type": "stream",
     "text": [
      " 83%|████████▎ | 54/65 [08:11<01:55, 10.48s/it]"
     ]
    },
    {
     "name": "stdout",
     "output_type": "stream",
     "text": [
      "Sorry :c something went wrong unzipping the file:quiz_dim\n"
     ]
    },
    {
     "name": "stderr",
     "output_type": "stream",
     "text": [
      " 85%|████████▍ | 55/65 [09:19<04:35, 27.57s/it]"
     ]
    },
    {
     "name": "stdout",
     "output_type": "stream",
     "text": [
      "Sorry :c something went wrong unzipping the file:quiz_question_answer_dim\n"
     ]
    },
    {
     "name": "stderr",
     "output_type": "stream",
     "text": [
      " 86%|████████▌ | 56/65 [11:15<08:07, 54.14s/it]"
     ]
    },
    {
     "name": "stdout",
     "output_type": "stream",
     "text": [
      "Sorry :c something went wrong unzipping the file:quiz_question_dim\n"
     ]
    },
    {
     "name": "stderr",
     "output_type": "stream",
     "text": [
      " 88%|████████▊ | 57/65 [11:19<05:13, 39.15s/it]"
     ]
    },
    {
     "name": "stdout",
     "output_type": "stream",
     "text": [
      "Sorry :c something went wrong unzipping the file:quiz_question_group_dim\n"
     ]
    },
    {
     "name": "stderr",
     "output_type": "stream",
     "text": [
      " 89%|████████▉ | 58/65 [11:38<03:50, 32.95s/it]"
     ]
    },
    {
     "name": "stdout",
     "output_type": "stream",
     "text": [
      "Sorry :c something went wrong unzipping the file:quiz_submission_dim\n"
     ]
    },
    {
     "name": "stderr",
     "output_type": "stream",
     "text": [
      " 91%|█████████ | 59/65 [12:01<03:00, 30.15s/it]"
     ]
    },
    {
     "name": "stdout",
     "output_type": "stream",
     "text": [
      "Sorry :c something went wrong unzipping the file:quiz_submission_historical_dim\n"
     ]
    },
    {
     "name": "stderr",
     "output_type": "stream",
     "text": [
      " 92%|█████████▏| 60/65 [12:04<01:49, 21.86s/it]"
     ]
    },
    {
     "name": "stdout",
     "output_type": "stream",
     "text": [
      "Sorry :c something went wrong unzipping the file:role_dim\n"
     ]
    },
    {
     "name": "stderr",
     "output_type": "stream",
     "text": [
      " 94%|█████████▍| 61/65 [12:37<01:40, 25.20s/it]"
     ]
    },
    {
     "name": "stdout",
     "output_type": "stream",
     "text": [
      "Sorry :c something went wrong unzipping the file:submission_comment_dim\n"
     ]
    },
    {
     "name": "stderr",
     "output_type": "stream",
     "text": [
      " 95%|█████████▌| 62/65 [14:57<02:58, 59.66s/it]"
     ]
    },
    {
     "name": "stdout",
     "output_type": "stream",
     "text": [
      "Sorry :c something went wrong unzipping the file:submission_dim\n"
     ]
    },
    {
     "name": "stderr",
     "output_type": "stream",
     "text": [
      " 97%|█████████▋| 63/65 [15:01<01:25, 42.90s/it]"
     ]
    },
    {
     "name": "stdout",
     "output_type": "stream",
     "text": [
      "Sorry :c something went wrong unzipping the file:user_dim\n"
     ]
    },
    {
     "name": "stderr",
     "output_type": "stream",
     "text": [
      " 98%|█████████▊| 64/65 [15:04<00:30, 30.97s/it]"
     ]
    },
    {
     "name": "stdout",
     "output_type": "stream",
     "text": [
      "Sorry :c something went wrong unzipping the file:wiki_dim\n"
     ]
    },
    {
     "name": "stderr",
     "output_type": "stream",
     "text": [
      "100%|██████████| 65/65 [15:41<00:00, 14.49s/it]"
     ]
    },
    {
     "name": "stdout",
     "output_type": "stream",
     "text": [
      "Sorry :c something went wrong unzipping the file:wiki_page_dim\n"
     ]
    },
    {
     "name": "stderr",
     "output_type": "stream",
     "text": [
      "\n"
     ]
    }
   ],
   "source": [
    "def get_list(filename):\n",
    "    \"\"\"Reads the dimension file and creates a list of the dimensions \n",
    "    Parameters\n",
    "    ----------\n",
    "    filename : str\n",
    "       The name of the document to read\n",
    "    Returns\n",
    "    -------\n",
    "    list\n",
    "        a list of the dimensions of the cli tool, these dimensions are taken from 'https://portal.inshosteddata.com/docs#account_dim'\n",
    "    \"\"\"\n",
    "    from tqdm import tqdm  #progress bar in for loops\n",
    "    dim_fact_list = []\n",
    "    with open(f'{filename}.txt', 'r') as file: \n",
    "        lines = file.readlines()\n",
    "        for line in tqdm(lines): \n",
    "            dim_fact_list.append(line.rstrip(\"\\n\"))\n",
    "    return dim_fact_list\n",
    "#get_list()\n",
    "\n",
    "def save_data(url, filename):\n",
    "    \"\"\"Gets and save the file in the specified url\n",
    "\n",
    "    Parameters\n",
    "    ----------\n",
    "    url : str\n",
    "        The url of the file to download \n",
    "    filename : str\n",
    "       The name of the fact/dimension to create '.gz' file\n",
    "    \"\"\"\n",
    "    import requests\n",
    "    from datetime import datetime\n",
    "    date = datetime.today().strftime('%Y-%m-%d')\n",
    "    filename = f'{filename}_{date}.gz'\n",
    "    with open(filename, \"wb\") as f:\n",
    "        r = requests.get(url)\n",
    "        f.write(r.content)\n",
    "#save_data(url, filename)\n",
    "\n",
    "def unzip_file(filename):\n",
    "    import gzip\n",
    "    import shutil\n",
    "    success = False\n",
    "    try: \n",
    "        with gzip.open(f'{filename}.gz', 'rb') as file_in:\n",
    "            with open(f'{filename}.txt', 'wb') as file_out:\n",
    "                shutil.copyfileobj(file_in, file_out)\n",
    "                success = True\n",
    "    except:\n",
    "        print(f'Sorry :c something went wrong unzipping the file:{filename}')\n",
    "    return success\n",
    "\n",
    "def extract_data(filename): \n",
    "    \"\"\"\n",
    "    Function that executes Command Prompt (CMD) commands to retreive data from Canvas-Data-CLI tool and stores it.\n",
    "        - The data cli tool sometimes returns a url that's later processed with save_data() function to save the document \n",
    "        in the specified path.\n",
    "        - If there is no url it means there is no file to be retreived, so it adds this dimension to 'exceptions.txt' file.\n",
    "        - It uses two supporting functions: get_list() and save_data().\n",
    "    \"\"\"\n",
    "    import subprocess\n",
    "    from tqdm import tqdm #progress bar in for loops\n",
    "    process_list = []\n",
    "    last_index, saved_index = 0, 0\n",
    "    dim_fact_list = get_list(filename)\n",
    "    exceptions = open('exceptions.txt', 'w')\n",
    "    for item in tqdm(dim_fact_list):\n",
    "        last_index += 1\n",
    "        try: \n",
    "            process = subprocess.run(f'canvasDataCli fetch -c config.js -t {item}', shell=True, \n",
    "                                     capture_output = True,\n",
    "                                     cwd='C:/Users/EstCanvas/canvas-data-cli')\n",
    "            url = str(process.stdout).split(\"'\")[1] #get the url that's going to be used in save_data\n",
    "            if url[:4] == 'http': \n",
    "                save_data(url, str(item))\n",
    "                unzip_file(str(item))\n",
    "                saved_index += 1\n",
    "            else:\n",
    "                exceptions.write(f'{item} \\n')\n",
    "        except: \n",
    "            print(f'Could not execute command with dim: {item}')\n",
    "            exceptions.write(f'{item} \\n')\n",
    "extract_data('facts_list')\n",
    "extract_data('dim_list')"
   ]
  },
  {
   "cell_type": "code",
   "execution_count": 3,
   "id": "e5514df4-5f94-48ce-b42a-10d5450de8b8",
   "metadata": {},
   "outputs": [
    {
     "name": "stderr",
     "output_type": "stream",
     "text": [
      "100%|██████████| 65/65 [00:00<?, ?it/s]\n",
      "100%|██████████| 65/65 [00:00<00:00, 2078.11it/s]"
     ]
    },
    {
     "name": "stdout",
     "output_type": "stream",
     "text": [
      "Sorry :c something went wrong unzipping the file:account_dim\n",
      "Sorry :c something went wrong unzipping the file:assignment_dim\n",
      "Sorry :c something went wrong unzipping the file:assignment_group_dim\n",
      "Sorry :c something went wrong unzipping the file:assignment_group_rule_dim\n",
      "Sorry :c something went wrong unzipping the file:assignment_group_score_dim\n",
      "Sorry :c something went wrong unzipping the file:assignment_override_dim\n",
      "Sorry :c something went wrong unzipping the file:assignment_override_user_dim\n",
      "Sorry :c something went wrong unzipping the file:assignment_rule_dim\n",
      "Sorry :c something went wrong unzipping the file:catalog_applicant_dim\n",
      "Sorry :c something went wrong unzipping the file:catalog_dim\n",
      "Sorry :c something went wrong unzipping the file:catalog_enrollment_dim\n",
      "Sorry :c something went wrong unzipping the file:catalog_order_dim\n",
      "Sorry :c something went wrong unzipping the file:catalog_order_item_dim\n",
      "Sorry :c something went wrong unzipping the file:catalog_payment_dim\n",
      "Sorry :c something went wrong unzipping the file:catalog_product_dim\n",
      "Sorry :c something went wrong unzipping the file:catalog_product_tag_dim\n",
      "Sorry :c something went wrong unzipping the file:catalog_promotion_dim\n",
      "Sorry :c something went wrong unzipping the file:catalog_tag_dim\n",
      "Sorry :c something went wrong unzipping the file:catalog_user_registration_dim\n",
      "Sorry :c something went wrong unzipping the file:communication_channel_dim\n",
      "Sorry :c something went wrong unzipping the file:conference_dim\n",
      "Sorry :c something went wrong unzipping the file:conference_participant_dim\n",
      "Sorry :c something went wrong unzipping the file:conversation_dim\n",
      "Sorry :c something went wrong unzipping the file:conversation_message_dim\n",
      "Sorry :c something went wrong unzipping the file:course_dim\n",
      "Sorry :c something went wrong unzipping the file:course_score_dim\n",
      "Sorry :c something went wrong unzipping the file:course_section_dim\n",
      "Sorry :c something went wrong unzipping the file:course_ui_canvas_navigation_dim\n",
      "Sorry :c something went wrong unzipping the file:course_ui_navigation_item_dim\n",
      "Sorry :c something went wrong unzipping the file:discussion_entry_dim\n",
      "Sorry :c something went wrong unzipping the file:discussion_topic_dim\n",
      "Sorry :c something went wrong unzipping the file:enrollment_dim\n",
      "Sorry :c something went wrong unzipping the file:enrollment_rollup_dim\n",
      "Sorry :c something went wrong unzipping the file:enrollment_term_dim\n",
      "Sorry :c something went wrong unzipping the file:external_tool_activation_dim\n",
      "Sorry :c something went wrong unzipping the file:file_dim\n",
      "Sorry :c something went wrong unzipping the file:grading_period_dim\n",
      "Sorry :c something went wrong unzipping the file:grading_period_group_dim\n",
      "Sorry :c something went wrong unzipping the file:grading_period_score_dim\n",
      "Sorry :c something went wrong unzipping the file:group_dim\n",
      "Sorry :c something went wrong unzipping the file:group_membership_dim\n",
      "Sorry :c something went wrong unzipping the file:learning_outcome_dim\n",
      "Sorry :c something went wrong unzipping the file:learning_outcome_group_dim\n",
      "Sorry :c something went wrong unzipping the file:learning_outcome_question_result_dim\n",
      "Sorry :c something went wrong unzipping the file:learning_outcome_result_dim\n",
      "Sorry :c something went wrong unzipping the file:learning_outcome_rubric_criterion_dim\n",
      "Sorry :c something went wrong unzipping the file:module_completion_requirement_dim\n",
      "Sorry :c something went wrong unzipping the file:module_dim\n",
      "Sorry :c something went wrong unzipping the file:module_item_dim\n",
      "Sorry :c something went wrong unzipping the file:module_prerequisite_dim\n",
      "Sorry :c something went wrong unzipping the file:module_progression_completion_requirement_dim\n",
      "Sorry :c something went wrong unzipping the file:module_progression_dim\n",
      "Sorry :c something went wrong unzipping the file:pseudonym_dim\n",
      "Sorry :c something went wrong unzipping the file:quiz_dim\n",
      "Sorry :c something went wrong unzipping the file:quiz_question_answer_dim\n",
      "Sorry :c something went wrong unzipping the file:quiz_question_dim\n",
      "Sorry :c something went wrong unzipping the file:quiz_question_group_dim\n",
      "Sorry :c something went wrong unzipping the file:quiz_submission_dim\n",
      "Sorry :c something went wrong unzipping the file:quiz_submission_historical_dim\n",
      "Sorry :c something went wrong unzipping the file:role_dim\n",
      "Sorry :c something went wrong unzipping the file:submission_comment_dim\n",
      "Sorry :c something went wrong unzipping the file:submission_dim\n",
      "Sorry :c something went wrong unzipping the file:user_dim\n",
      "Sorry :c something went wrong unzipping the file:wiki_dim\n",
      "Sorry :c something went wrong unzipping the file:wiki_page_dim\n"
     ]
    },
    {
     "name": "stderr",
     "output_type": "stream",
     "text": [
      "\n"
     ]
    },
    {
     "data": {
      "text/plain": [
       "False"
      ]
     },
     "execution_count": 3,
     "metadata": {},
     "output_type": "execute_result"
    }
   ],
   "source": [
    "\n",
    "def unzip_file():\n",
    "    import gzip\n",
    "    import shutil\n",
    "    from tqdm import tqdm\n",
    "    lista = get_list('dim_list')\n",
    "    success = False\n",
    "    for item in tqdm(lista):\n",
    "        try: \n",
    "            with gzip.open(f'{item}.gz', 'rb') as file_in:\n",
    "                with open(f'{item}.txt', 'wb') as file_out:\n",
    "                    shutil.copyfileobj(file_in, file_out)\n",
    "                    success = True\n",
    "        except:\n",
    "            print(f'Sorry :c something went wrong unzipping the file:{item}')\n",
    "    return success\n",
    "unzip_file()"
   ]
  },
  {
   "cell_type": "code",
   "execution_count": null,
   "id": "64338518-267f-4d24-bf5b-517d93ae7a56",
   "metadata": {},
   "outputs": [],
   "source": []
  }
 ],
 "metadata": {
  "kernelspec": {
   "display_name": "Python 3",
   "language": "python",
   "name": "python3"
  },
  "language_info": {
   "codemirror_mode": {
    "name": "ipython",
    "version": 3
   },
   "file_extension": ".py",
   "mimetype": "text/x-python",
   "name": "python",
   "nbconvert_exporter": "python",
   "pygments_lexer": "ipython3",
   "version": "3.8.8"
  }
 },
 "nbformat": 4,
 "nbformat_minor": 5
}
